{
  "nbformat": 4,
  "nbformat_minor": 0,
  "metadata": {
    "colab": {
      "name": "Vine_Review_Analysis.ipynb",
      "provenance": [],
      "collapsed_sections": []
    },
    "kernelspec": {
      "name": "python3",
      "display_name": "Python 3"
    },
    "language_info": {
      "name": "python"
    }
  },
  "cells": [
    {
      "cell_type": "code",
      "execution_count": 1,
      "metadata": {
        "colab": {
          "base_uri": "https://localhost:8080/"
        },
        "id": "G6mjJOLOWi9k",
        "outputId": "48a90194-48f1-4da4-81b3-09893365b3fa"
      },
      "outputs": [
        {
          "output_type": "stream",
          "name": "stdout",
          "text": [
            "\r0% [Working]\r            \rHit:1 http://ppa.launchpad.net/c2d4u.team/c2d4u4.0+/ubuntu bionic InRelease\n",
            "\r0% [Waiting for headers] [Connecting to security.ubuntu.com (91.189.91.39)] [Co\r                                                                               \rHit:2 http://archive.ubuntu.com/ubuntu bionic InRelease\n",
            "\r0% [Waiting for headers] [Connecting to security.ubuntu.com (91.189.91.39)] [Co\r0% [1 InRelease gpgv 15.9 kB] [Waiting for headers] [Connecting to security.ubu\r                                                                               \rGet:3 http://archive.ubuntu.com/ubuntu bionic-updates InRelease [88.7 kB]\n",
            "\r0% [1 InRelease gpgv 15.9 kB] [3 InRelease 14.2 kB/88.7 kB 16%] [Connecting to \r                                                                               \rHit:4 http://ppa.launchpad.net/cran/libgit2/ubuntu bionic InRelease\n",
            "\r0% [1 InRelease gpgv 15.9 kB] [3 InRelease 15.6 kB/88.7 kB 18%] [Connecting to \r                                                                               \rGet:5 https://cloud.r-project.org/bin/linux/ubuntu bionic-cran40/ InRelease [3,626 B]\n",
            "\r0% [1 InRelease gpgv 15.9 kB] [3 InRelease 15.6 kB/88.7 kB 18%] [Connecting to \r                                                                               \rHit:6 http://ppa.launchpad.net/deadsnakes/ppa/ubuntu bionic InRelease\n",
            "\r0% [1 InRelease gpgv 15.9 kB] [3 InRelease 56.2 kB/88.7 kB 63%] [Connecting to \r0% [1 InRelease gpgv 15.9 kB] [Connecting to security.ubuntu.com (91.189.91.39)\r                                                                               \rHit:7 http://ppa.launchpad.net/graphics-drivers/ppa/ubuntu bionic InRelease\n",
            "\r0% [1 InRelease gpgv 15.9 kB] [Waiting for headers] [Waiting for headers] [Wait\r                                                                               \rHit:8 http://archive.ubuntu.com/ubuntu bionic-backports InRelease\n",
            "Get:9 http://security.ubuntu.com/ubuntu bionic-security InRelease [88.7 kB]\n",
            "Ign:10 https://developer.download.nvidia.com/compute/cuda/repos/ubuntu1804/x86_64  InRelease\n",
            "Ign:11 https://developer.download.nvidia.com/compute/machine-learning/repos/ubuntu1804/x86_64  InRelease\n",
            "Hit:12 https://developer.download.nvidia.com/compute/cuda/repos/ubuntu1804/x86_64  Release\n",
            "Hit:13 https://developer.download.nvidia.com/compute/machine-learning/repos/ubuntu1804/x86_64  Release\n",
            "Fetched 181 kB in 2s (110 kB/s)\n",
            "Reading package lists... Done\n"
          ]
        }
      ],
      "source": [
        "import os\n",
        "# Find the latest version of spark 3.0 from http://www.apache.org/dist/spark/ and enter as the spark version\n",
        "# For example:\n",
        "# spark_version = 'spark-3.0.3'\n",
        "spark_version = 'spark-3.2.0'\n",
        "os.environ['SPARK_VERSION']=spark_version\n",
        "\n",
        "# Install Spark and Java\n",
        "!apt-get update\n",
        "!apt-get install openjdk-11-jdk-headless -qq > /dev/null\n",
        "!wget -q http://www.apache.org/dist/spark/$SPARK_VERSION/$SPARK_VERSION-bin-hadoop2.7.tgz\n",
        "!tar xf $SPARK_VERSION-bin-hadoop2.7.tgz\n",
        "!pip install -q findspark\n",
        "\n",
        "# Set Environment Variables\n",
        "import os\n",
        "os.environ[\"JAVA_HOME\"] = \"/usr/lib/jvm/java-11-openjdk-amd64\"\n",
        "os.environ[\"SPARK_HOME\"] = f\"/content/{spark_version}-bin-hadoop2.7\"\n",
        "\n",
        "# Start a SparkSession\n",
        "import findspark\n",
        "findspark.init()"
      ]
    },
    {
      "cell_type": "code",
      "source": [
        "from pyspark.sql import SparkSession\n",
        "spark = SparkSession.builder.appName(\"M16-Amazon-Challenge\").config(\"spark.driver.extraClassPath\",\"/content/postgresql-42.2.16.jar\").getOrCreate()"
      ],
      "metadata": {
        "id": "UQGi40Xbxaup"
      },
      "execution_count": 2,
      "outputs": []
    },
    {
      "cell_type": "code",
      "source": [
        "# Deliverable 2 - Extract the dataset used in Deliverable 1\n",
        "\n",
        "from pyspark import SparkFiles\n",
        "url = \"https://s3.amazonaws.com/amazon-reviews-pds/tsv/amazon_reviews_us_Video_Games_v1_00.tsv.gz\"\n",
        "spark.sparkContext.addFile(url)\n",
        "df = spark.read.option(\"encoding\", \"UTF-8\").csv(SparkFiles.get(\"\"), sep=\"\\t\", header=True, inferSchema=True)\n",
        "df.show()"
      ],
      "metadata": {
        "colab": {
          "base_uri": "https://localhost:8080/"
        },
        "id": "FRBqQBZYxqXB",
        "outputId": "6934b62f-106a-4dcb-c312-c167b748d369"
      },
      "execution_count": 3,
      "outputs": [
        {
          "output_type": "stream",
          "name": "stdout",
          "text": [
            "+-----------+-----------+--------------+----------+--------------+--------------------+----------------+-----------+-------------+-----------+----+-----------------+--------------------+--------------------+-----------+\n",
            "|marketplace|customer_id|     review_id|product_id|product_parent|       product_title|product_category|star_rating|helpful_votes|total_votes|vine|verified_purchase|     review_headline|         review_body|review_date|\n",
            "+-----------+-----------+--------------+----------+--------------+--------------------+----------------+-----------+-------------+-----------+----+-----------------+--------------------+--------------------+-----------+\n",
            "|         US|   12039526| RTIS3L2M1F5SM|B001CXYMFS|     737716809|Thrustmaster T-Fl...|     Video Games|          5|            0|          0|   N|                Y|an amazing joysti...|Used this for Eli...| 2015-08-31|\n",
            "|         US|    9636577| R1ZV7R40OLHKD|B00M920ND6|     569686175|Tonsee 6 buttons ...|     Video Games|          5|            0|          0|   N|                Y|Definitely a sile...|Loved it,  I didn...| 2015-08-31|\n",
            "|         US|    2331478|R3BH071QLH8QMC|B0029CSOD2|      98937668|Hidden Mysteries:...|     Video Games|          1|            0|          1|   N|                Y|            One Star|poor quality work...| 2015-08-31|\n",
            "|         US|   52495923|R127K9NTSXA2YH|B00GOOSV98|      23143350|GelTabz Performan...|     Video Games|          3|            0|          0|   N|                Y|good, but could b...|nice, but tend to...| 2015-08-31|\n",
            "|         US|   14533949|R32ZWUXDJPW27Q|B00Y074JOM|     821342511|Zero Suit Samus a...|     Video Games|          4|            0|          0|   N|                Y|   Great but flawed.|Great amiibo, gre...| 2015-08-31|\n",
            "|         US|    2377552|R3AQQ4YUKJWBA6|B002UBI6W6|     328764615|Psyclone Recharge...|     Video Games|          1|            0|          0|   N|                Y|            One Star|The remote consta...| 2015-08-31|\n",
            "|         US|   17521011|R2F0POU5K6F73F|B008XHCLFO|      24234603|Protection for yo...|     Video Games|          5|            0|          0|   N|                Y|              A Must|I have a 2012-201...| 2015-08-31|\n",
            "|         US|   19676307|R3VNR804HYSMR6|B00BRA9R6A|     682267517|   Nerf 3DS XL Armor|     Video Games|          5|            0|          0|   N|                Y|          Five Stars|Perfect, kids lov...| 2015-08-31|\n",
            "|         US|     224068| R3GZTM72WA2QH|B009EPWJLA|     435241890|One Piece: Pirate...|     Video Games|          5|            0|          0|   N|                Y|          Five Stars|            Excelent| 2015-08-31|\n",
            "|         US|   48467989| RNQOY62705W1K|B0000AV7GB|     256572651|Playstation 2 Dan...|     Video Games|          4|            0|          0|   N|                Y|          Four Stars|Slippery but expe...| 2015-08-31|\n",
            "|         US|     106569|R1VTIA3JTYBY02|B00008KTNN|     384411423|Metal Arms: Glitc...|     Video Games|          5|            0|          0|   N|                N|          Five Stars|Love the game. Se...| 2015-08-31|\n",
            "|         US|   48269642|R29DOU8791QZL8|B000A3IA0Y|     472622859|72 Pin Connector ...|     Video Games|          1|            0|          0|   N|                Y| Game will get stuck|Does not fit prop...| 2015-08-31|\n",
            "|         US|   52738710|R15DUT1VIJ9RJZ|B0053BQN34|     577628462|uDraw Gametablet ...|     Video Games|          2|            0|          0|   N|                Y|We have tried it ...|This was way too ...| 2015-08-31|\n",
            "|         US|   10556786|R3IMF2MQ3OU9ZM|B002I0HIMI|     988218515|NBA 2K12(Covers M...|     Video Games|          4|            0|          0|   N|                Y|          Four Stars|Works great good ...| 2015-08-31|\n",
            "|         US|    2963837|R23H79DHOZTYAU|B0081EH12M|     770100932|New Trigger Grips...|     Video Games|          1|            1|          1|   N|                Y|Now i have to buy...|It did not fit th...| 2015-08-31|\n",
            "|         US|   23092109| RIV24EQAIXA4O|B005FMLZQQ|      24647669|Xbox 360 Media Re...|     Video Games|          5|            0|          0|   N|                Y|          Five Stars|perfect lightweig...| 2015-08-31|\n",
            "|         US|   23091728|R3UCNGYDVN24YB|B002BSA388|      33706205|Super Mario Galaxy 2|     Video Games|          5|            0|          0|   N|                Y|          Five Stars|               great| 2015-08-31|\n",
            "|         US|   10712640| RUL4H4XTTN2DY|B00BUSLSAC|     829667834|Nintendo 3DS XL -...|     Video Games|          5|            0|          0|   N|                Y|          Five Stars|Works beautifully...| 2015-08-31|\n",
            "|         US|   17455376|R20JF7Z4DHTNX5|B00KWF38AW|     110680188|Captain Toad:  Tr...|     Video Games|          5|            0|          0|   N|                Y|          Five Stars|Kids loved the ga...| 2015-08-31|\n",
            "|         US|   14754850|R2T1AJ5MFI2260|B00BRQJYA8|     616463426|Lego Batman 2: DC...|     Video Games|          4|            0|          0|   N|                Y|          Four Stars|           Goodngame| 2015-08-31|\n",
            "+-----------+-----------+--------------+----------+--------------+--------------------+----------------+-----------+-------------+-----------+----+-----------------+--------------------+--------------------+-----------+\n",
            "only showing top 20 rows\n",
            "\n"
          ]
        }
      ]
    },
    {
      "cell_type": "code",
      "source": [
        "# Recreate the vine_table, and perform your analysis using the steps above.\n",
        "vine_df = df.select(['review_id', 'star_rating', 'helpful_votes', 'total_votes', 'vine', 'verified_purchase'])\n",
        "vine_df.show()"
      ],
      "metadata": {
        "colab": {
          "base_uri": "https://localhost:8080/"
        },
        "id": "wqS8HDwHx0f1",
        "outputId": "24a69b59-83f8-465b-8080-3b649af6a2c6"
      },
      "execution_count": 4,
      "outputs": [
        {
          "output_type": "stream",
          "name": "stdout",
          "text": [
            "+--------------+-----------+-------------+-----------+----+-----------------+\n",
            "|     review_id|star_rating|helpful_votes|total_votes|vine|verified_purchase|\n",
            "+--------------+-----------+-------------+-----------+----+-----------------+\n",
            "| RTIS3L2M1F5SM|          5|            0|          0|   N|                Y|\n",
            "| R1ZV7R40OLHKD|          5|            0|          0|   N|                Y|\n",
            "|R3BH071QLH8QMC|          1|            0|          1|   N|                Y|\n",
            "|R127K9NTSXA2YH|          3|            0|          0|   N|                Y|\n",
            "|R32ZWUXDJPW27Q|          4|            0|          0|   N|                Y|\n",
            "|R3AQQ4YUKJWBA6|          1|            0|          0|   N|                Y|\n",
            "|R2F0POU5K6F73F|          5|            0|          0|   N|                Y|\n",
            "|R3VNR804HYSMR6|          5|            0|          0|   N|                Y|\n",
            "| R3GZTM72WA2QH|          5|            0|          0|   N|                Y|\n",
            "| RNQOY62705W1K|          4|            0|          0|   N|                Y|\n",
            "|R1VTIA3JTYBY02|          5|            0|          0|   N|                N|\n",
            "|R29DOU8791QZL8|          1|            0|          0|   N|                Y|\n",
            "|R15DUT1VIJ9RJZ|          2|            0|          0|   N|                Y|\n",
            "|R3IMF2MQ3OU9ZM|          4|            0|          0|   N|                Y|\n",
            "|R23H79DHOZTYAU|          1|            1|          1|   N|                Y|\n",
            "| RIV24EQAIXA4O|          5|            0|          0|   N|                Y|\n",
            "|R3UCNGYDVN24YB|          5|            0|          0|   N|                Y|\n",
            "| RUL4H4XTTN2DY|          5|            0|          0|   N|                Y|\n",
            "|R20JF7Z4DHTNX5|          5|            0|          0|   N|                Y|\n",
            "|R2T1AJ5MFI2260|          4|            0|          0|   N|                Y|\n",
            "+--------------+-----------+-------------+-----------+----+-----------------+\n",
            "only showing top 20 rows\n",
            "\n"
          ]
        }
      ]
    },
    {
      "cell_type": "code",
      "source": [
        "# 1. Filter the data and create a new DataFrame or table to retrieve all the rows\n",
        "# where the total_votes count is equal to or greater than 20 to pick reviews that\n",
        "# are more likely to be helpful and to avoid having division by zero errors later on.\n",
        "vine_df = vine_df.filter(\"total_votes>20\")\n",
        "vine_df.show()"
      ],
      "metadata": {
        "colab": {
          "base_uri": "https://localhost:8080/"
        },
        "id": "Ex8w12fmyQVl",
        "outputId": "7aed7991-f339-42b1-f3a0-9f2b8f603362"
      },
      "execution_count": 5,
      "outputs": [
        {
          "output_type": "stream",
          "name": "stdout",
          "text": [
            "+--------------+-----------+-------------+-----------+----+-----------------+\n",
            "|     review_id|star_rating|helpful_votes|total_votes|vine|verified_purchase|\n",
            "+--------------+-----------+-------------+-----------+----+-----------------+\n",
            "| R4PKAZRQJJX14|          1|           21|         34|   N|                N|\n",
            "|R2CI0Y288CC7E2|          1|           21|         35|   N|                Y|\n",
            "|R127WEQY2FM1T3|          1|          147|        175|   N|                Y|\n",
            "|R3EZ0EPYLDA34S|          1|           14|         31|   N|                Y|\n",
            "|R2FJ94555FZH32|          2|           55|         60|   N|                N|\n",
            "|R1U3AR67RE273L|          1|           51|         65|   N|                Y|\n",
            "|R3PZOXA5X1U8KW|          4|           31|         36|   N|                N|\n",
            "| R6KTC1OPIOIIG|          2|           19|         34|   N|                Y|\n",
            "|R36O341WWXXKNP|          5|           28|         31|   N|                N|\n",
            "|R3GSK9MM8DNOYI|          1|            4|         32|   N|                N|\n",
            "|R10LZVBLQHBVJ0|          2|          151|        198|   N|                N|\n",
            "|R1VR5GLGY1GE7N|          1|           49|         51|   N|                Y|\n",
            "|R3GUUC6NT4QMCL|          1|            5|         36|   N|                N|\n",
            "|R1ZSD020RT18I5|          1|            7|        139|   N|                N|\n",
            "|R113X48B575ASY|          1|           15|         45|   N|                N|\n",
            "| RJLYLGRYH7SFQ|          1|           34|        116|   N|                N|\n",
            "|R2OWDAR0EDEPTF|          1|           23|         28|   N|                N|\n",
            "|R3CICXKAHN6NUD|          1|            0|         23|   N|                Y|\n",
            "|R29BOS5HMAY1LO|          5|           88|        110|   N|                N|\n",
            "| R8WD0136CETA7|          2|           99|        119|   N|                N|\n",
            "+--------------+-----------+-------------+-----------+----+-----------------+\n",
            "only showing top 20 rows\n",
            "\n"
          ]
        }
      ]
    },
    {
      "cell_type": "code",
      "source": [
        "# 2. Filter the new DataFrame or table created in Step 1 and create a new DataFrame\n",
        "# or table to retrieve all the rows where the number of helpful_votes divided by\n",
        "# total_votes is equal to or greater than 50%.\n",
        "vine_df = vine_df.withColumn('helpful_50', (vine_df['helpful_votes']/vine_df['total_votes'])*100).filter('helpful_50>50')\n",
        "vine_df.show()"
      ],
      "metadata": {
        "colab": {
          "base_uri": "https://localhost:8080/"
        },
        "id": "9u7kNw1nyQfD",
        "outputId": "3f8cc563-eca2-4f5a-fb47-a737bec1ceb5"
      },
      "execution_count": 6,
      "outputs": [
        {
          "output_type": "stream",
          "name": "stdout",
          "text": [
            "+--------------+-----------+-------------+-----------+----+-----------------+-----------------+\n",
            "|     review_id|star_rating|helpful_votes|total_votes|vine|verified_purchase|       helpful_50|\n",
            "+--------------+-----------+-------------+-----------+----+-----------------+-----------------+\n",
            "| R4PKAZRQJJX14|          1|           21|         34|   N|                N|61.76470588235294|\n",
            "|R2CI0Y288CC7E2|          1|           21|         35|   N|                Y|             60.0|\n",
            "|R127WEQY2FM1T3|          1|          147|        175|   N|                Y|             84.0|\n",
            "|R2FJ94555FZH32|          2|           55|         60|   N|                N|91.66666666666666|\n",
            "|R1U3AR67RE273L|          1|           51|         65|   N|                Y|78.46153846153847|\n",
            "|R3PZOXA5X1U8KW|          4|           31|         36|   N|                N|86.11111111111111|\n",
            "| R6KTC1OPIOIIG|          2|           19|         34|   N|                Y|55.88235294117647|\n",
            "|R36O341WWXXKNP|          5|           28|         31|   N|                N|90.32258064516128|\n",
            "|R10LZVBLQHBVJ0|          2|          151|        198|   N|                N|76.26262626262627|\n",
            "|R1VR5GLGY1GE7N|          1|           49|         51|   N|                Y|96.07843137254902|\n",
            "|R2OWDAR0EDEPTF|          1|           23|         28|   N|                N|82.14285714285714|\n",
            "|R29BOS5HMAY1LO|          5|           88|        110|   N|                N|             80.0|\n",
            "| R8WD0136CETA7|          2|           99|        119|   N|                N|83.19327731092437|\n",
            "|R16621F16PQN5A|          3|           24|         31|   N|                Y|77.41935483870968|\n",
            "|R1LXBPG1M9DDOC|          1|          102|        106|   N|                N|96.22641509433963|\n",
            "| RNEMGSUKJ4535|          2|           21|         25|   N|                Y|             84.0|\n",
            "|R3R2UKBFKP1IQ4|          1|           19|         23|   N|                Y| 82.6086956521739|\n",
            "|R2T90XM5G2DBZA|          3|           15|         22|   N|                Y|68.18181818181817|\n",
            "| R5ZMK0Y0KRBRZ|          1|           79|         91|   N|                N|86.81318681318682|\n",
            "|R12E2W0XOV3I2S|          1|           24|         30|   N|                Y|             80.0|\n",
            "+--------------+-----------+-------------+-----------+----+-----------------+-----------------+\n",
            "only showing top 20 rows\n",
            "\n"
          ]
        }
      ]
    },
    {
      "cell_type": "code",
      "source": [
        "# 3. Filter the DataFrame or table created in Step 2, and create a new DataFrame\n",
        "# or table that retrieves all the rows where a review was written as part of the\n",
        "# Vine program (paid), vine == 'Y'.\n",
        "vine_paid_df = vine_df.filter(\"vine=='Y'\")\n",
        "vine_paid_df.show()"
      ],
      "metadata": {
        "colab": {
          "base_uri": "https://localhost:8080/"
        },
        "id": "ljBfTeZeyQlv",
        "outputId": "db0278b7-e021-4749-9dd5-457636654662"
      },
      "execution_count": 7,
      "outputs": [
        {
          "output_type": "stream",
          "name": "stdout",
          "text": [
            "+--------------+-----------+-------------+-----------+----+-----------------+-----------------+\n",
            "|     review_id|star_rating|helpful_votes|total_votes|vine|verified_purchase|       helpful_50|\n",
            "+--------------+-----------+-------------+-----------+----+-----------------+-----------------+\n",
            "|R3KKUSGFZWSUIY|          5|           56|         63|   Y|                N|88.88888888888889|\n",
            "|R10FO5UKKVZBK2|          3|           23|         23|   Y|                N|            100.0|\n",
            "| RM4KSGEOR7MU1|          5|           19|         24|   Y|                N|79.16666666666666|\n",
            "| RG7VRMYLEXD23|          4|           22|         26|   Y|                N|84.61538461538461|\n",
            "|R11O4YSCPSNL6L|          3|           20|         26|   Y|                N|76.92307692307693|\n",
            "|R286MFBAJ8NPD6|          5|           46|         51|   Y|                N|90.19607843137256|\n",
            "|R1JRR530H4COA2|          5|           22|         28|   Y|                N|78.57142857142857|\n",
            "| RQ5WD90PUNBU9|          5|           21|         24|   Y|                N|             87.5|\n",
            "|R12648VHCQWUV9|          4|           21|         28|   Y|                N|             75.0|\n",
            "|R1OWK33OPI45KT|          5|           55|         58|   Y|                N|94.82758620689656|\n",
            "|R2UP7VTED8O425|          5|           35|         41|   Y|                N|85.36585365853658|\n",
            "|R3EPHK0JGQGE91|          5|           21|         28|   Y|                N|             75.0|\n",
            "| RCP3KRO47S0GG|          4|           51|         58|   Y|                N|87.93103448275862|\n",
            "|R3JT907UUA1WUI|          4|           85|        103|   Y|                N|82.52427184466019|\n",
            "| RY0555ILXIYXW|          5|           38|         50|   Y|                N|             76.0|\n",
            "|R24PS9N276OXF4|          5|          241|        262|   Y|                N|91.98473282442748|\n",
            "| ROXZOMHBY8Y9S|          4|           21|         23|   Y|                N|91.30434782608695|\n",
            "|R1L8N6VFY5KDSU|          5|           23|         26|   Y|                N|88.46153846153845|\n",
            "|R3T4LTJ189G0LT|          4|           37|         45|   Y|                N|82.22222222222221|\n",
            "| R4LQC6M9AVXAY|          5|           69|         75|   Y|                N|             92.0|\n",
            "+--------------+-----------+-------------+-----------+----+-----------------+-----------------+\n",
            "only showing top 20 rows\n",
            "\n"
          ]
        }
      ]
    },
    {
      "cell_type": "code",
      "source": [
        "# 4. Repeat Step 3, but this time retrieve all the rows where the review was not\n",
        "# part of the Vine program (unpaid), vine == 'N'.\n",
        "vine_unpaid_df = vine_df.filter(\"vine=='N'\")\n",
        "vine_unpaid_df.show()"
      ],
      "metadata": {
        "colab": {
          "base_uri": "https://localhost:8080/"
        },
        "id": "ypcwgs8kyQog",
        "outputId": "66a23fd1-b003-4a29-de1a-26409880f386"
      },
      "execution_count": 8,
      "outputs": [
        {
          "output_type": "stream",
          "name": "stdout",
          "text": [
            "+--------------+-----------+-------------+-----------+----+-----------------+-----------------+\n",
            "|     review_id|star_rating|helpful_votes|total_votes|vine|verified_purchase|       helpful_50|\n",
            "+--------------+-----------+-------------+-----------+----+-----------------+-----------------+\n",
            "| R4PKAZRQJJX14|          1|           21|         34|   N|                N|61.76470588235294|\n",
            "|R2CI0Y288CC7E2|          1|           21|         35|   N|                Y|             60.0|\n",
            "|R127WEQY2FM1T3|          1|          147|        175|   N|                Y|             84.0|\n",
            "|R2FJ94555FZH32|          2|           55|         60|   N|                N|91.66666666666666|\n",
            "|R1U3AR67RE273L|          1|           51|         65|   N|                Y|78.46153846153847|\n",
            "|R3PZOXA5X1U8KW|          4|           31|         36|   N|                N|86.11111111111111|\n",
            "| R6KTC1OPIOIIG|          2|           19|         34|   N|                Y|55.88235294117647|\n",
            "|R36O341WWXXKNP|          5|           28|         31|   N|                N|90.32258064516128|\n",
            "|R10LZVBLQHBVJ0|          2|          151|        198|   N|                N|76.26262626262627|\n",
            "|R1VR5GLGY1GE7N|          1|           49|         51|   N|                Y|96.07843137254902|\n",
            "|R2OWDAR0EDEPTF|          1|           23|         28|   N|                N|82.14285714285714|\n",
            "|R29BOS5HMAY1LO|          5|           88|        110|   N|                N|             80.0|\n",
            "| R8WD0136CETA7|          2|           99|        119|   N|                N|83.19327731092437|\n",
            "|R16621F16PQN5A|          3|           24|         31|   N|                Y|77.41935483870968|\n",
            "|R1LXBPG1M9DDOC|          1|          102|        106|   N|                N|96.22641509433963|\n",
            "| RNEMGSUKJ4535|          2|           21|         25|   N|                Y|             84.0|\n",
            "|R3R2UKBFKP1IQ4|          1|           19|         23|   N|                Y| 82.6086956521739|\n",
            "|R2T90XM5G2DBZA|          3|           15|         22|   N|                Y|68.18181818181817|\n",
            "| R5ZMK0Y0KRBRZ|          1|           79|         91|   N|                N|86.81318681318682|\n",
            "|R12E2W0XOV3I2S|          1|           24|         30|   N|                Y|             80.0|\n",
            "+--------------+-----------+-------------+-----------+----+-----------------+-----------------+\n",
            "only showing top 20 rows\n",
            "\n"
          ]
        }
      ]
    },
    {
      "cell_type": "code",
      "source": [
        "# 5. Determine the total number of reviews, the number of 5-star reviews, and\n",
        "# the percentage of 5-star reviews for the two types of review (paid vs unpaid).\n",
        "paid_count_df = vine_paid_df.groupby('star_rating').count()\n",
        "paid_count_df = paid_count_df.filter('star_rating==5')\n",
        "paid_count_df = paid_count_df.select('count')\n",
        "paid_count_df = paid_count_df.withColumnRenamed('count', 'paid_five_star')\n",
        "paid_count_df = paid_count_df.withColumn('paid_percentage', (paid_count_df['paid_five_star']/vine_paid_df.count())*100)"
      ],
      "metadata": {
        "id": "kx7SvOkPyQrI"
      },
      "execution_count": 9,
      "outputs": []
    },
    {
      "cell_type": "code",
      "source": [
        "unpaid_count_df = vine_unpaid_df.groupby('star_rating').count()\n",
        "unpaid_count_df = unpaid_count_df.filter('star_rating==5')\n",
        "unpaid_count_df = unpaid_count_df.select('count')\n",
        "unpaid_count_df = unpaid_count_df.withColumnRenamed('count', 'unpaid_five_star')\n",
        "unpaid_count_df = unpaid_count_df.withColumn('unpaid_percentage', (unpaid_count_df['unpaid_five_star']/vine_unpaid_df.count())*100)"
      ],
      "metadata": {
        "id": "UIg2DlgvFsVO"
      },
      "execution_count": 10,
      "outputs": []
    },
    {
      "cell_type": "code",
      "source": [
        "paid_count_df.show()\n",
        "unpaid_count_df.show()"
      ],
      "metadata": {
        "colab": {
          "base_uri": "https://localhost:8080/"
        },
        "id": "p7q6eCzwRuh6",
        "outputId": "fecf6a36-fe59-400b-ac83-30a12cd8f130"
      },
      "execution_count": 11,
      "outputs": [
        {
          "output_type": "stream",
          "name": "stdout",
          "text": [
            "+--------------+------------------+\n",
            "|paid_five_star|   paid_percentage|\n",
            "+--------------+------------------+\n",
            "|            44|48.888888888888886|\n",
            "+--------------+------------------+\n",
            "\n",
            "+----------------+------------------+\n",
            "|unpaid_five_star| unpaid_percentage|\n",
            "+----------------+------------------+\n",
            "|           14626|39.122642771164905|\n",
            "+----------------+------------------+\n",
            "\n"
          ]
        }
      ]
    },
    {
      "cell_type": "code",
      "source": [
        "# Export your Vine_Review_Analysis Google Colab Notebook as an ipynb file, \n",
        "# and save it to your Amazon_Vine_Analysis GitHub repository.\n"
      ],
      "metadata": {
        "id": "qTigj_y4x62l"
      },
      "execution_count": 12,
      "outputs": []
    }
  ]
}